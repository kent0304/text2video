{
 "cells": [
  {
   "cell_type": "code",
   "execution_count": 1,
   "metadata": {},
   "outputs": [],
   "source": [
    "import pickle\n",
    "from pathlib import Path\n",
    "import shutil\n",
    "import numpy as np\n",
    "\n",
    "import cv2\n",
    "import torch\n",
    "import torch.nn as nn\n",
    "import torch.optim as optim\n",
    "\n",
    "\n",
    "from torch.utils.data import Dataset, DataLoader\n",
    "from torch.utils.tensorboard import SummaryWriter\n",
    "\n",
    "from data_prep2 import LabeledVideoDataset\n",
    "from text_processing2 import selectTemplates\n",
    "\n",
    "from models import *\n",
    "from utils import to_video, selectFramesRandomly, calc_grad_penalty\n",
    "from visual_encoders import *"
   ]
  },
  {
   "cell_type": "code",
   "execution_count": 2,
   "metadata": {},
   "outputs": [],
   "source": [
    "path = '/home/lukoshkin/Datasets/clean-20bn-sth-sth/metadata/train.json'\n",
    "cache = '/home/lukoshkin/TVGAN/logdir/'\n",
    "\n",
    "templates = ['Pushing [something] from left to right']\n",
    "new_name = selectTemplates(path, templates, '1-template.pkl')\n",
    "\n",
    "v2tds = LabeledVideoDataset(new_name, cache, video_shape=(32, 32, 32, 3))"
   ]
  },
  {
   "cell_type": "code",
   "execution_count": 3,
   "metadata": {},
   "outputs": [],
   "source": [
    "device = torch.device(\"cuda:0\")\n",
    "batch_size = 128\n",
    "\n",
    "major_data = v2tds.data['major']\n",
    "minor_data = v2tds.data['minor']\n",
    "major_data = np.rec.array(major_data)\n",
    "minor_data = np.rec.array(minor_data)\n",
    "\n",
    "# If working with a small dataset, transfer it entirely on the device\n",
    "\n",
    "#label = torch.tensor(major_data.f0, device=device)\n",
    "#slens = torch.tensor(major_data.f1, device=device)\n",
    "video = torch.tensor(major_data.f2, device=device)\n",
    "obj_vec = torch.tensor(minor_data.f0.astype('int'), device=device)\n",
    "#act_vec = torch.tensor(minor_data.f1.astype('int'), device=device)\n",
    "#act_len = torch.tensor(minor_data.f2.astype('int'), device=device)\n",
    "\n",
    "emb_weights = v2tds.getGloveEmbeddings(True)\n",
    "emb_weights = torch.tensor(emb_weights, device=device)\n",
    "encoder = SimpleTextEncoder(emb_weights)\n",
    "embeddings = encoder(obj_vec, 1)\n",
    "\n",
    "class BN20sthsth(Dataset):\n",
    "    def __init__(self):\n",
    "        self.embs = embeddings\n",
    "        self.gifs = video\n",
    "        \n",
    "    def __getitem__(self, idx):\n",
    "        return self.embs[idx], self.gifs[idx]\n",
    "    \n",
    "    def __len__(self):\n",
    "        return len(embeddings)\n",
    "    \n",
    "dl = DataLoader(BN20sthsth(), batch_size, shuffle=True, drop_last=True)\n",
    "        \n",
    "# validation: book, green cup, red candle, an orange bowl (not ordered?)\n",
    "#val_samples = [168029, 157604, 71563, 82109] \n",
    "# train:  book, box, mug, marker (ordered)\n",
    "val_samples = [118889, 65005, 162293, 73929] \n",
    "\n",
    "major_val, minor_val = v2tds.getById(val_samples)\n",
    "val_obj= torch.tensor(minor_val.f0.astype('int'), device=device)\n",
    "test = encoder(val_obj, 1)"
   ]
  },
  {
   "cell_type": "code",
   "execution_count": 4,
   "metadata": {},
   "outputs": [],
   "source": [
    "gen = TestVideoGenerator(dim_Z=50, cond_size=50)\n",
    "i_dis = StackImageDiscriminator(cond_size=50)\n",
    "v_dis = StackVideoDiscriminator(cond_size=50)\n",
    "# i_dis = ProjectionImageDiscriminator(cond_size=50, logits=False)\n",
    "# v_dis = ProjectionVideoDiscriminator(cond_size=50, logits=False)\n",
    "\n",
    "gen = gen.to(device)\n",
    "i_dis = i_dis.to(device)\n",
    "v_dis = v_dis.to(device)\n",
    "\n",
    "# models should be on the first device in the device_ids list \n",
    "# before making a call to nn.DataParallel class\n",
    "gen = nn.DataParallel(gen, device_ids=[0, 1, 2])\n",
    "i_dis = nn.DataParallel(i_dis, device_ids=[0, 1, 2])\n",
    "v_dis = nn.DataParallel(v_dis, device_ids=[0, 1, 2])\n",
    "lr_g = 0.00005\n",
    "lr_d = 0.0002\n",
    "\n",
    "g_opt = optim.Adam(gen.parameters(), lr=lr_g, betas=(0.3, 0.999))\n",
    "i_opt = optim.Adam(i_dis.parameters(), lr=lr_d, betas=(0.3, 0.999))\n",
    "v_opt = optim.Adam(v_dis.parameters(), lr=lr_d, betas=(0.3, 0.999))"
   ]
  },
  {
   "cell_type": "code",
   "execution_count": 5,
   "metadata": {},
   "outputs": [],
   "source": [
    "logdir = Path('runs/process_4')\n",
    "if logdir.exists():\n",
    "    shutil.rmtree(logdir)\n",
    "\n",
    "loss = {}\n",
    "CNT = 0\n",
    "start = 1\n",
    "writer = SummaryWriter(logdir)\n",
    "experiment_name = 'one_cat-1000samples'"
   ]
  },
  {
   "cell_type": "code",
   "execution_count": null,
   "metadata": {},
   "outputs": [
    {
     "name": "stdout",
     "output_type": "stream",
     "text": [
      "EPOCH: 1 / 10000\n"
     ]
    },
    {
     "name": "stderr",
     "output_type": "stream",
     "text": [
      "                                                             "
     ]
    },
    {
     "name": "stdout",
     "output_type": "stream",
     "text": [
      "MoviePy - Building file /tmp/tmpiu13zc71.gif with imageio.\n",
      "EPOCH: 2 / 10000\n"
     ]
    },
    {
     "name": "stderr",
     "output_type": "stream",
     "text": [
      "                                                             "
     ]
    },
    {
     "name": "stdout",
     "output_type": "stream",
     "text": [
      "MoviePy - Building file /tmp/tmpp0s9xt8z.gif with imageio.\n",
      "EPOCH: 3 / 10000\n"
     ]
    },
    {
     "name": "stderr",
     "output_type": "stream",
     "text": [
      "\r"
     ]
    }
   ],
   "source": [
    "k_d, k_g = 2, 1\n",
    "hyppar = 1000\n",
    "num_epochs = 10000\n",
    "submit_period = 1\n",
    "save_period = 200\n",
    "n_cp = 10\n",
    "epoch_loss = {'D': 0, 'G': 0}\n",
    "\n",
    "\n",
    "for epoch in range(start, num_epochs+1):\n",
    "    print(f'EPOCH: {epoch} / {num_epochs}')\n",
    "    for No, (e, v) in enumerate(dl):\n",
    "        ne = torch.roll(e, 1, 0)\n",
    "        f_ids = selectFramesRandomly(16, 8)\n",
    "        i = v[:, :, f_ids, ...].permute(0, 2, 1, 3, 4)\n",
    "        for _ in range(k_d):\n",
    "            with torch.no_grad():\n",
    "                gv = gen(e)\n",
    "            gi = gv[:, :, f_ids, ...].permute(0, 2, 1, 3, 4)\n",
    "            # i = image, v = video,  e = embedding, g = generated,\n",
    "            # s = scores, n = negative, p = positive\n",
    "            \n",
    "            pis, nis, gis = i_dis(i, e), i_dis(i, ne), i_dis(gi, e)\n",
    "            pvs, nvs, gvs = v_dis(v, e), v_dis(v, ne), v_dis(gv, e)\n",
    "            l1 = pis.log().mean() + pvs.log().mean()\n",
    "            l2 = (-nis).log1p().mean() + (-nvs).log1p().mean()\n",
    "            l3 = (-gis).log1p().mean() + (-gvs).log1p().mean()\n",
    "            l4 = calc_grad_penalty(v, gv, v_dis, e)\n",
    "            l5 = calc_grad_penalty(i, gi, i_dis, e)\n",
    "            L = -.33*(l1+l2+l3) + hyppar*(l4+l5)\n",
    "            \n",
    "            i_opt.zero_grad()\n",
    "            v_opt.zero_grad()\n",
    "            L.backward()\n",
    "            i_opt.step()\n",
    "            v_opt.step()\n",
    "            \n",
    "        epoch_loss['D'] += L.item()\n",
    "        \n",
    "        for _ in range(k_g):\n",
    "            gv = gen(e)\n",
    "            gi = gv[:, :, f_ids, ...].permute(0, 2, 1, 3, 4)\n",
    "            L = -.5 * (i_dis(gi, e).log().mean() + v_dis(gv, e).log().mean())\n",
    "            \n",
    "            g_opt.zero_grad()\n",
    "            L.backward()\n",
    "            g_opt.step()\n",
    "            \n",
    "        epoch_loss['G'] += L.item()\n",
    "        \n",
    "    for k, v in epoch_loss.items():\n",
    "        loss[k] = v / (No + 1)\n",
    "    epoch_loss = dict.fromkeys(epoch_loss, 0)\n",
    "    \n",
    "    if epoch % submit_period == 0:\n",
    "        gen.eval()\n",
    "        with torch.no_grad():\n",
    "            gv = gen(test)\n",
    "        writer.add_scalars('Loss_ap', loss, epoch)\n",
    "        writer.add_video('Fakes_ap', to_video(gv), epoch)\n",
    "        gen.train()\n",
    "    \n",
    "    if epoch % save_period == 0:\n",
    "        print('Saving the progress')\n",
    "        # Save models themselves as well (in case you're gonna change them latter)\n",
    "        checkpoint = {\n",
    "            'epoch': epoch,\n",
    "            'next_checkpoint_No': CNT+1,\n",
    "            'gen_state': gen.state_dict(), \n",
    "            'i_dis_state': i_dis.state_dict(),\n",
    "            'v_dis_state': v_dis.state_dict(),\n",
    "            'gen_model': gen,\n",
    "            'i_dis_model': i_dis,\n",
    "            'v_dis_model': v_dis,\n",
    "            'g_opt_dict': g_opt.state_dict(),\n",
    "            'i_opt_dict': i_opt.state_dict(),\n",
    "            'v_opt_dict': v_opt.state_dict()}\n",
    "        save_as = f'../checkpoints/{experiment_name}-cp{CNT%n_cp}.tar'\n",
    "        torch.save(checkpoint, save_as)\n",
    "        CNT += 1\n",
    "        print('Done!')"
   ]
  },
  {
   "cell_type": "code",
   "execution_count": null,
   "metadata": {},
   "outputs": [],
   "source": [
    "# LOADDING FOR INFERENCE\n",
    "checkpoint = torch.load(f'../checkpoints/{experiment_name}-cp1.tar')\n",
    "\n",
    "# IF THE ORIGINAL ARCHITECTURE IS PRESERVED \n",
    "gen.load_state_dict(checkpoint['gen_state'])\n",
    "# gen.eval()\n",
    "# do something\n",
    "\n",
    "# -- OTHERWISE --\n",
    "#gen = checkpoint['gen_model']\n",
    "#gen.eval()\n",
    "# do something"
   ]
  },
  {
   "cell_type": "code",
   "execution_count": null,
   "metadata": {},
   "outputs": [],
   "source": [
    "# INFERENCE\n",
    "gen.eval()\n",
    "with torch.no_grad():\n",
    "    infer = gen(test)\n",
    "\n",
    "generated_video = ((infer+1) / 2 * 255).permute(0, 2, 3, 4, 1).cpu().numpy().astype('uint8')"
   ]
  },
  {
   "cell_type": "code",
   "execution_count": null,
   "metadata": {},
   "outputs": [],
   "source": [
    "# WRITE VIDEOS TO FILES\n",
    "fourcc = cv2.VideoWriter_fourcc(*'XVID')\n",
    "im_size = (128, 128)\n",
    "subjects = ['book', 'box', 'mug', 'marker']\n",
    "folder = Path('generated_video')\n",
    "if not folder.exists():\n",
    "    folder.mkdir()\n",
    "for i, subj in enumerate(subjects):\n",
    "    out = cv2.VideoWriter(f'{folder}/{subj}.avi', fourcc, 4., im_size)\n",
    "    for frame in generated_video[i]:\n",
    "        frame = cv2.resize(frame, im_size)\n",
    "        frame = cv2.cvtColor(frame, cv2.COLOR_BGR2RGB)\n",
    "        out.write(frame)\n",
    "    out.release()"
   ]
  },
  {
   "cell_type": "code",
   "execution_count": null,
   "metadata": {},
   "outputs": [],
   "source": [
    "# RESUMING THE TRAINING\n",
    "# >> initialize models and optimizers >> \n",
    "#gen = \n",
    "#i_dis =\n",
    "#v_dis =\n",
    "# << initialize models <<\n",
    "\n",
    "# if `save_as` contains a string defined during training\n",
    "# otherwise: save_as = f'../checkpoints/{experiment_name}-cp0.tar'\n",
    "checkpoint = torch.load(save_as)\n",
    "gen.load_state_dict(checkpoint['gen_state'])\n",
    "i_dis.load_state_dict(checkpoint['i_dis_state'])\n",
    "v_dis.load_state_dict(checkpoint['v_dis_state'])\n",
    "g_opt.load_state_dict(checkpoint['g_opt_dict'])\n",
    "i_opt.load_state_dict(checkpoint['i_opt_dict'])\n",
    "v_opt.load_state_dict(checkpoint['v_opt_dict'])\n",
    "start = checkpoint['epoch']\n",
    "CNT = checkpoint['next_checkpoint_No']\n",
    "gen.train();\n",
    "\n",
    "# now you can run the block with training"
   ]
  }
 ],
 "metadata": {
  "kernelspec": {
   "display_name": "Python 3",
   "language": "python",
   "name": "python3"
  },
  "language_info": {
   "codemirror_mode": {
    "name": "ipython",
    "version": 3
   },
   "file_extension": ".py",
   "mimetype": "text/x-python",
   "name": "python",
   "nbconvert_exporter": "python",
   "pygments_lexer": "ipython3",
   "version": "3.7.3"
  }
 },
 "nbformat": 4,
 "nbformat_minor": 2
}
